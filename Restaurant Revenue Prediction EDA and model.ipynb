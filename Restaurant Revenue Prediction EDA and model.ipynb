{
 "cells": [
  {
   "cell_type": "markdown",
   "id": "smoking-study",
   "metadata": {},
   "source": [
    "# Import libraries and data"
   ]
  },
  {
   "cell_type": "code",
   "execution_count": 2,
   "id": "incident-liberia",
   "metadata": {},
   "outputs": [],
   "source": [
    "import numpy as np\n",
    "import pandas as pd\n",
    "import matplotlib.pyplot as plt\n",
    "import seaborn as sns\n",
    "%matplotlib inline\n",
    "import warnings\n",
    "warnings.filterwarnings('ignore')\n",
    "\n",
    "# read test file\n",
    "test_data = pd.read_csv('data/test.csv')\n",
    "# read training data\n",
    "raw_df = pd.read_csv('data/train.csv')\n"
   ]
  },
  {
   "cell_type": "code",
   "execution_count": 3,
   "id": "experienced-causing",
   "metadata": {},
   "outputs": [
    {
     "name": "stdout",
     "output_type": "stream",
     "text": [
      "Shape of training data: (137, 43)\n",
      "Shape of test dataset: (100000, 42)     \n",
      "Features available: Index(['Id', 'Open Date', 'City', 'City Group', 'Type', 'P1', 'P2', 'P3', 'P4',\n",
      "       'P5', 'P6', 'P7', 'P8', 'P9', 'P10', 'P11', 'P12', 'P13', 'P14', 'P15',\n",
      "       'P16', 'P17', 'P18', 'P19', 'P20', 'P21', 'P22', 'P23', 'P24', 'P25',\n",
      "       'P26', 'P27', 'P28', 'P29', 'P30', 'P31', 'P32', 'P33', 'P34', 'P35',\n",
      "       'P36', 'P37', 'revenue'],\n",
      "      dtype='object')\n"
     ]
    }
   ],
   "source": [
    "print(f\"Shape of training data: {raw_df.shape}\\nShape of test dataset: {test_data.shape} \\\n",
    "    \\nFeatures available: {raw_df.columns}\")"
   ]
  },
  {
   "cell_type": "markdown",
   "id": "hybrid-sewing",
   "metadata": {},
   "source": [
    "#### Data field description\n",
    "- Id : Restaurant id. \n",
    "- Open Date : opening date for a restaurant\n",
    "- City : City that the restaurant is in. Note that there are unicode in the names. \n",
    "- City Group: Type of the city. Big cities, or Other. \n",
    "- Type: Type of the restaurant. FC: Food Court, IL: Inline, DT: Drive Thru, MB: Mobile\n",
    "- P1, P2 - P37: There are three categories of these obfuscated data. Demographic data are gathered from third party providers with GIS systems. These include population in any given area, age and gender distribution, development scales. Real estate data mainly relate to the m2 of the location, front facade of the location, car park availability. Commercial data mainly include the existence of points of interest including schools, banks, other QSR operators.\n",
    "- Revenue: The revenue column indicates a (transformed) revenue of the restaurant in a given year and is the target of predictive analysis. Please note that the values are transformed so they don't mean real dollar values. "
   ]
  },
  {
   "cell_type": "code",
   "execution_count": 4,
   "id": "multiple-demonstration",
   "metadata": {},
   "outputs": [
    {
     "data": {
      "text/html": [
       "<div>\n",
       "<style scoped>\n",
       "    .dataframe tbody tr th:only-of-type {\n",
       "        vertical-align: middle;\n",
       "    }\n",
       "\n",
       "    .dataframe tbody tr th {\n",
       "        vertical-align: top;\n",
       "    }\n",
       "\n",
       "    .dataframe thead th {\n",
       "        text-align: right;\n",
       "    }\n",
       "</style>\n",
       "<table border=\"1\" class=\"dataframe\">\n",
       "  <thead>\n",
       "    <tr style=\"text-align: right;\">\n",
       "      <th></th>\n",
       "      <th>Id</th>\n",
       "      <th>Open Date</th>\n",
       "      <th>City</th>\n",
       "      <th>City Group</th>\n",
       "      <th>Type</th>\n",
       "      <th>P1</th>\n",
       "      <th>P2</th>\n",
       "      <th>P3</th>\n",
       "      <th>P4</th>\n",
       "      <th>P5</th>\n",
       "      <th>P6</th>\n",
       "      <th>P7</th>\n",
       "      <th>P8</th>\n",
       "      <th>P9</th>\n",
       "      <th>P10</th>\n",
       "      <th>P11</th>\n",
       "      <th>P12</th>\n",
       "      <th>P13</th>\n",
       "      <th>P14</th>\n",
       "      <th>P15</th>\n",
       "      <th>P16</th>\n",
       "      <th>P17</th>\n",
       "      <th>P18</th>\n",
       "      <th>P19</th>\n",
       "      <th>P20</th>\n",
       "      <th>P21</th>\n",
       "      <th>P22</th>\n",
       "      <th>P23</th>\n",
       "      <th>P24</th>\n",
       "      <th>P25</th>\n",
       "      <th>P26</th>\n",
       "      <th>P27</th>\n",
       "      <th>P28</th>\n",
       "      <th>P29</th>\n",
       "      <th>P30</th>\n",
       "      <th>P31</th>\n",
       "      <th>P32</th>\n",
       "      <th>P33</th>\n",
       "      <th>P34</th>\n",
       "      <th>P35</th>\n",
       "      <th>P36</th>\n",
       "      <th>P37</th>\n",
       "      <th>revenue</th>\n",
       "    </tr>\n",
       "  </thead>\n",
       "  <tbody>\n",
       "    <tr>\n",
       "      <th>0</th>\n",
       "      <td>0</td>\n",
       "      <td>07/17/1999</td>\n",
       "      <td>İstanbul</td>\n",
       "      <td>Big Cities</td>\n",
       "      <td>IL</td>\n",
       "      <td>4</td>\n",
       "      <td>5.0</td>\n",
       "      <td>4.0</td>\n",
       "      <td>4.0</td>\n",
       "      <td>2</td>\n",
       "      <td>2</td>\n",
       "      <td>5</td>\n",
       "      <td>4</td>\n",
       "      <td>5</td>\n",
       "      <td>5</td>\n",
       "      <td>3</td>\n",
       "      <td>5</td>\n",
       "      <td>5.0</td>\n",
       "      <td>1</td>\n",
       "      <td>2</td>\n",
       "      <td>2</td>\n",
       "      <td>2</td>\n",
       "      <td>4</td>\n",
       "      <td>5</td>\n",
       "      <td>4</td>\n",
       "      <td>1</td>\n",
       "      <td>3</td>\n",
       "      <td>3</td>\n",
       "      <td>1</td>\n",
       "      <td>1</td>\n",
       "      <td>1.0</td>\n",
       "      <td>4.0</td>\n",
       "      <td>2.0</td>\n",
       "      <td>3.0</td>\n",
       "      <td>5</td>\n",
       "      <td>3</td>\n",
       "      <td>4</td>\n",
       "      <td>5</td>\n",
       "      <td>5</td>\n",
       "      <td>4</td>\n",
       "      <td>3</td>\n",
       "      <td>4</td>\n",
       "      <td>5653753.0</td>\n",
       "    </tr>\n",
       "    <tr>\n",
       "      <th>1</th>\n",
       "      <td>1</td>\n",
       "      <td>02/14/2008</td>\n",
       "      <td>Ankara</td>\n",
       "      <td>Big Cities</td>\n",
       "      <td>FC</td>\n",
       "      <td>4</td>\n",
       "      <td>5.0</td>\n",
       "      <td>4.0</td>\n",
       "      <td>4.0</td>\n",
       "      <td>1</td>\n",
       "      <td>2</td>\n",
       "      <td>5</td>\n",
       "      <td>5</td>\n",
       "      <td>5</td>\n",
       "      <td>5</td>\n",
       "      <td>1</td>\n",
       "      <td>5</td>\n",
       "      <td>5.0</td>\n",
       "      <td>0</td>\n",
       "      <td>0</td>\n",
       "      <td>0</td>\n",
       "      <td>0</td>\n",
       "      <td>0</td>\n",
       "      <td>3</td>\n",
       "      <td>2</td>\n",
       "      <td>1</td>\n",
       "      <td>3</td>\n",
       "      <td>2</td>\n",
       "      <td>0</td>\n",
       "      <td>0</td>\n",
       "      <td>0.0</td>\n",
       "      <td>0.0</td>\n",
       "      <td>3.0</td>\n",
       "      <td>3.0</td>\n",
       "      <td>0</td>\n",
       "      <td>0</td>\n",
       "      <td>0</td>\n",
       "      <td>0</td>\n",
       "      <td>0</td>\n",
       "      <td>0</td>\n",
       "      <td>0</td>\n",
       "      <td>0</td>\n",
       "      <td>6923131.0</td>\n",
       "    </tr>\n",
       "    <tr>\n",
       "      <th>2</th>\n",
       "      <td>2</td>\n",
       "      <td>03/09/2013</td>\n",
       "      <td>Diyarbakır</td>\n",
       "      <td>Other</td>\n",
       "      <td>IL</td>\n",
       "      <td>2</td>\n",
       "      <td>4.0</td>\n",
       "      <td>2.0</td>\n",
       "      <td>5.0</td>\n",
       "      <td>2</td>\n",
       "      <td>3</td>\n",
       "      <td>5</td>\n",
       "      <td>5</td>\n",
       "      <td>5</td>\n",
       "      <td>5</td>\n",
       "      <td>2</td>\n",
       "      <td>5</td>\n",
       "      <td>5.0</td>\n",
       "      <td>0</td>\n",
       "      <td>0</td>\n",
       "      <td>0</td>\n",
       "      <td>0</td>\n",
       "      <td>0</td>\n",
       "      <td>1</td>\n",
       "      <td>1</td>\n",
       "      <td>1</td>\n",
       "      <td>1</td>\n",
       "      <td>1</td>\n",
       "      <td>0</td>\n",
       "      <td>0</td>\n",
       "      <td>0.0</td>\n",
       "      <td>0.0</td>\n",
       "      <td>1.0</td>\n",
       "      <td>3.0</td>\n",
       "      <td>0</td>\n",
       "      <td>0</td>\n",
       "      <td>0</td>\n",
       "      <td>0</td>\n",
       "      <td>0</td>\n",
       "      <td>0</td>\n",
       "      <td>0</td>\n",
       "      <td>0</td>\n",
       "      <td>2055379.0</td>\n",
       "    </tr>\n",
       "    <tr>\n",
       "      <th>3</th>\n",
       "      <td>3</td>\n",
       "      <td>02/02/2012</td>\n",
       "      <td>Tokat</td>\n",
       "      <td>Other</td>\n",
       "      <td>IL</td>\n",
       "      <td>6</td>\n",
       "      <td>4.5</td>\n",
       "      <td>6.0</td>\n",
       "      <td>6.0</td>\n",
       "      <td>4</td>\n",
       "      <td>4</td>\n",
       "      <td>10</td>\n",
       "      <td>8</td>\n",
       "      <td>10</td>\n",
       "      <td>10</td>\n",
       "      <td>8</td>\n",
       "      <td>10</td>\n",
       "      <td>7.5</td>\n",
       "      <td>6</td>\n",
       "      <td>4</td>\n",
       "      <td>9</td>\n",
       "      <td>3</td>\n",
       "      <td>12</td>\n",
       "      <td>20</td>\n",
       "      <td>12</td>\n",
       "      <td>6</td>\n",
       "      <td>1</td>\n",
       "      <td>10</td>\n",
       "      <td>2</td>\n",
       "      <td>2</td>\n",
       "      <td>2.5</td>\n",
       "      <td>2.5</td>\n",
       "      <td>2.5</td>\n",
       "      <td>7.5</td>\n",
       "      <td>25</td>\n",
       "      <td>12</td>\n",
       "      <td>10</td>\n",
       "      <td>6</td>\n",
       "      <td>18</td>\n",
       "      <td>12</td>\n",
       "      <td>12</td>\n",
       "      <td>6</td>\n",
       "      <td>2675511.0</td>\n",
       "    </tr>\n",
       "    <tr>\n",
       "      <th>4</th>\n",
       "      <td>4</td>\n",
       "      <td>05/09/2009</td>\n",
       "      <td>Gaziantep</td>\n",
       "      <td>Other</td>\n",
       "      <td>IL</td>\n",
       "      <td>3</td>\n",
       "      <td>4.0</td>\n",
       "      <td>3.0</td>\n",
       "      <td>4.0</td>\n",
       "      <td>2</td>\n",
       "      <td>2</td>\n",
       "      <td>5</td>\n",
       "      <td>5</td>\n",
       "      <td>5</td>\n",
       "      <td>5</td>\n",
       "      <td>2</td>\n",
       "      <td>5</td>\n",
       "      <td>5.0</td>\n",
       "      <td>2</td>\n",
       "      <td>1</td>\n",
       "      <td>2</td>\n",
       "      <td>1</td>\n",
       "      <td>4</td>\n",
       "      <td>2</td>\n",
       "      <td>2</td>\n",
       "      <td>1</td>\n",
       "      <td>2</td>\n",
       "      <td>1</td>\n",
       "      <td>2</td>\n",
       "      <td>3</td>\n",
       "      <td>3.0</td>\n",
       "      <td>5.0</td>\n",
       "      <td>1.0</td>\n",
       "      <td>3.0</td>\n",
       "      <td>5</td>\n",
       "      <td>1</td>\n",
       "      <td>3</td>\n",
       "      <td>2</td>\n",
       "      <td>3</td>\n",
       "      <td>4</td>\n",
       "      <td>3</td>\n",
       "      <td>3</td>\n",
       "      <td>4316715.0</td>\n",
       "    </tr>\n",
       "  </tbody>\n",
       "</table>\n",
       "</div>"
      ],
      "text/plain": [
       "   Id   Open Date        City  City Group Type  P1   P2   P3   P4  P5  P6  P7  \\\n",
       "0   0  07/17/1999    İstanbul  Big Cities   IL   4  5.0  4.0  4.0   2   2   5   \n",
       "1   1  02/14/2008      Ankara  Big Cities   FC   4  5.0  4.0  4.0   1   2   5   \n",
       "2   2  03/09/2013  Diyarbakır       Other   IL   2  4.0  2.0  5.0   2   3   5   \n",
       "3   3  02/02/2012       Tokat       Other   IL   6  4.5  6.0  6.0   4   4  10   \n",
       "4   4  05/09/2009   Gaziantep       Other   IL   3  4.0  3.0  4.0   2   2   5   \n",
       "\n",
       "   P8  P9  P10  P11  P12  P13  P14  P15  P16  P17  P18  P19  P20  P21  P22  \\\n",
       "0   4   5    5    3    5  5.0    1    2    2    2    4    5    4    1    3   \n",
       "1   5   5    5    1    5  5.0    0    0    0    0    0    3    2    1    3   \n",
       "2   5   5    5    2    5  5.0    0    0    0    0    0    1    1    1    1   \n",
       "3   8  10   10    8   10  7.5    6    4    9    3   12   20   12    6    1   \n",
       "4   5   5    5    2    5  5.0    2    1    2    1    4    2    2    1    2   \n",
       "\n",
       "   P23  P24  P25  P26  P27  P28  P29  P30  P31  P32  P33  P34  P35  P36  P37  \\\n",
       "0    3    1    1  1.0  4.0  2.0  3.0    5    3    4    5    5    4    3    4   \n",
       "1    2    0    0  0.0  0.0  3.0  3.0    0    0    0    0    0    0    0    0   \n",
       "2    1    0    0  0.0  0.0  1.0  3.0    0    0    0    0    0    0    0    0   \n",
       "3   10    2    2  2.5  2.5  2.5  7.5   25   12   10    6   18   12   12    6   \n",
       "4    1    2    3  3.0  5.0  1.0  3.0    5    1    3    2    3    4    3    3   \n",
       "\n",
       "     revenue  \n",
       "0  5653753.0  \n",
       "1  6923131.0  \n",
       "2  2055379.0  \n",
       "3  2675511.0  \n",
       "4  4316715.0  "
      ]
     },
     "execution_count": 4,
     "metadata": {},
     "output_type": "execute_result"
    }
   ],
   "source": [
    "# To see all the columns in output\n",
    "pd.options.display.max_columns=None\n",
    "# To see all rows change max_columns with max_rows\n",
    "raw_df.head()"
   ]
  },
  {
   "cell_type": "code",
   "execution_count": 5,
   "id": "hundred-lindsay",
   "metadata": {},
   "outputs": [
    {
     "data": {
      "text/plain": [
       "False"
      ]
     },
     "execution_count": 5,
     "metadata": {},
     "output_type": "execute_result"
    }
   ],
   "source": [
    "raw_df.isnull().sum().any()"
   ]
  },
  {
   "cell_type": "code",
   "execution_count": 6,
   "id": "synthetic-portland",
   "metadata": {
    "collapsed": true,
    "jupyter": {
     "outputs_hidden": true
    }
   },
   "outputs": [
    {
     "name": "stdout",
     "output_type": "stream",
     "text": [
      "<class 'pandas.core.frame.DataFrame'>\n",
      "RangeIndex: 137 entries, 0 to 136\n",
      "Data columns (total 43 columns):\n",
      " #   Column      Non-Null Count  Dtype  \n",
      "---  ------      --------------  -----  \n",
      " 0   Id          137 non-null    int64  \n",
      " 1   Open Date   137 non-null    object \n",
      " 2   City        137 non-null    object \n",
      " 3   City Group  137 non-null    object \n",
      " 4   Type        137 non-null    object \n",
      " 5   P1          137 non-null    int64  \n",
      " 6   P2          137 non-null    float64\n",
      " 7   P3          137 non-null    float64\n",
      " 8   P4          137 non-null    float64\n",
      " 9   P5          137 non-null    int64  \n",
      " 10  P6          137 non-null    int64  \n",
      " 11  P7          137 non-null    int64  \n",
      " 12  P8          137 non-null    int64  \n",
      " 13  P9          137 non-null    int64  \n",
      " 14  P10         137 non-null    int64  \n",
      " 15  P11         137 non-null    int64  \n",
      " 16  P12         137 non-null    int64  \n",
      " 17  P13         137 non-null    float64\n",
      " 18  P14         137 non-null    int64  \n",
      " 19  P15         137 non-null    int64  \n",
      " 20  P16         137 non-null    int64  \n",
      " 21  P17         137 non-null    int64  \n",
      " 22  P18         137 non-null    int64  \n",
      " 23  P19         137 non-null    int64  \n",
      " 24  P20         137 non-null    int64  \n",
      " 25  P21         137 non-null    int64  \n",
      " 26  P22         137 non-null    int64  \n",
      " 27  P23         137 non-null    int64  \n",
      " 28  P24         137 non-null    int64  \n",
      " 29  P25         137 non-null    int64  \n",
      " 30  P26         137 non-null    float64\n",
      " 31  P27         137 non-null    float64\n",
      " 32  P28         137 non-null    float64\n",
      " 33  P29         137 non-null    float64\n",
      " 34  P30         137 non-null    int64  \n",
      " 35  P31         137 non-null    int64  \n",
      " 36  P32         137 non-null    int64  \n",
      " 37  P33         137 non-null    int64  \n",
      " 38  P34         137 non-null    int64  \n",
      " 39  P35         137 non-null    int64  \n",
      " 40  P36         137 non-null    int64  \n",
      " 41  P37         137 non-null    int64  \n",
      " 42  revenue     137 non-null    float64\n",
      "dtypes: float64(9), int64(30), object(4)\n",
      "memory usage: 46.1+ KB\n"
     ]
    }
   ],
   "source": [
    "raw_df.info()"
   ]
  },
  {
   "cell_type": "markdown",
   "id": "caroline-artist",
   "metadata": {},
   "source": [
    "##### There are no missing values.\n",
    "- Last column 'revenue' is our target column.\n",
    "- Features from P1 to P37 are all numerical features about which we know nothing specifically. So, I will directly feed them into my model.\n",
    "- Id column is redundant, I will drop it. To avoid it we can choose it as index column while reading data.i.e., using pd.read_csv('filepath',index_col=col_name_or_positional_no)\n",
    "- In feature Open date, I will focus on month and year and drop date values.\n",
    "- City, City Group and Type are categorical columns. To feed them to ML model they need to be converted into machine-readable form which is numerical form."
   ]
  },
  {
   "cell_type": "code",
   "execution_count": 7,
   "id": "motivated-canon",
   "metadata": {},
   "outputs": [],
   "source": [
    "raw_df.drop('Id',axis=1,inplace=True)"
   ]
  },
  {
   "cell_type": "code",
   "execution_count": 9,
   "id": "peaceful-implement",
   "metadata": {},
   "outputs": [
    {
     "data": {
      "text/plain": [
       "(137, 42)"
      ]
     },
     "execution_count": 9,
     "metadata": {},
     "output_type": "execute_result"
    }
   ],
   "source": [
    "raw_df.shape"
   ]
  },
  {
   "cell_type": "markdown",
   "id": "suitable-childhood",
   "metadata": {},
   "source": [
    "## Data Exploration"
   ]
  },
  {
   "cell_type": "code",
   "execution_count": 10,
   "id": "returning-valley",
   "metadata": {},
   "outputs": [
    {
     "data": {
      "image/png": "[encoded data removed]",
      "text/plain": [
       "<Figure size 432x288 with 1 Axes>"
      ]
     },
     "metadata": {
      "needs_background": "light"
     },
     "output_type": "display_data"
    }
   ],
   "source": [
    "sns.distplot(raw_df['revenue'],hist=False)\n",
    "plt.title('Distribution of Target variable')\n",
    "sns.despine(); #to remove top and right spines"
   ]
  },
  {
   "cell_type": "markdown",
   "id": "moving-junior",
   "metadata": {},
   "source": [
    "If we remove outliers our target variable will follow a normal distribution.(with a little bit skew)"
   ]
  },
  {
   "cell_type": "code",
   "execution_count": 11,
   "id": "moved-search",
   "metadata": {},
   "outputs": [],
   "source": [
    "raw_df = raw_df[raw_df['revenue']<8e+06].copy()"
   ]
  },
  {
   "cell_type": "code",
   "execution_count": 12,
   "id": "neutral-hawaiian",
   "metadata": {},
   "outputs": [
    {
     "data": {
      "image/png": "[encoded data removed]",
      "text/plain": [
       "<Figure size 432x288 with 1 Axes>"
      ]
     },
     "metadata": {
      "needs_background": "light"
     },
     "output_type": "display_data"
    }
   ],
   "source": [
    "sns.distplot(raw_df['revenue'],hist=False)\n",
    "plt.title('Distribution of Target variable')\n",
    "sns.despine(); #to remove top and right spines"
   ]
  },
  {
   "cell_type": "markdown",
   "id": "smooth-manner",
   "metadata": {},
   "source": [
    "### Look up type of restuarant in each datasets"
   ]
  },
  {
   "cell_type": "code",
   "execution_count": 13,
   "id": "dietary-hebrew",
   "metadata": {},
   "outputs": [
    {
     "data": {
      "image/png": "[encoded data removed]",
      "text/plain": [
       "<Figure size 648x360 with 2 Axes>"
      ]
     },
     "metadata": {
      "needs_background": "light"
     },
     "output_type": "display_data"
    }
   ],
   "source": [
    "fig,ax = plt.subplots(1,2,figsize=(9,5))\n",
    "sns.set_style('darkgrid')\n",
    "sns.countplot(raw_df.Type,ax=ax[0])\n",
    "ax[0].set_title('Train set')\n",
    "sns.countplot(test_data.Type,ax=ax[1])\n",
    "ax[1].set_title('Test set');"
   ]
  },
  {
   "cell_type": "markdown",
   "id": "numerous-africa",
   "metadata": {},
   "source": [
    ":(\n",
    "\n",
    "There is not even asingle observation of type 'MB' in training set. This is a problem for our model."
   ]
  },
  {
   "cell_type": "markdown",
   "id": "ambient-independence",
   "metadata": {},
   "source": [
    "### Create a checkpoint so that we can easily access original dataset"
   ]
  },
  {
   "cell_type": "code",
   "execution_count": 14,
   "id": "contemporary-debut",
   "metadata": {},
   "outputs": [],
   "source": [
    "df = pd.concat([raw_df,test_data],axis=0)\n",
    "\n",
    "# Extracting month and year from date column\n",
    "df['Open Date'] = pd.to_datetime(df['Open Date'])\n",
    "df['launch_Month'] = [x.month for x in df['Open Date']]\n",
    "df['launch_year'] = [x.year for x in df['Open Date']]\n",
    "df.drop(['Id','Open Date'],axis=1,inplace=True)"
   ]
  },
  {
   "cell_type": "code",
   "execution_count": 15,
   "id": "attempted-softball",
   "metadata": {},
   "outputs": [
    {
     "data": {
      "image/png": "[encoded data removed]",
      "text/plain": [
       "<Figure size 432x288 with 1 Axes>"
      ]
     },
     "metadata": {},
     "output_type": "display_data"
    }
   ],
   "source": [
    "sns.countplot(df['launch_Month'])\n",
    "plt.title('Month-wise no of launches');"
   ]
  },
  {
   "cell_type": "markdown",
   "id": "functional-access",
   "metadata": {},
   "source": [
    "Second half of the year seems to witness more restaurant launches."
   ]
  },
  {
   "cell_type": "code",
   "execution_count": 16,
   "id": "linear-amazon",
   "metadata": {},
   "outputs": [
    {
     "data": {
      "image/png": "[encoded data removed]",
      "text/plain": [
       "<Figure size 1080x432 with 1 Axes>"
      ]
     },
     "metadata": {},
     "output_type": "display_data"
    }
   ],
   "source": [
    "plt.figure(figsize=(15,6))\n",
    "sns.countplot(df['launch_year'],order=[1996,1997,1998,1999,2000,2002,2004,2005,2006,\n",
    "                                       2007,2008,2009,2010,2011,2012,2013,2014])\n",
    "plt.title('Year-wise no of launches',fontsize=15);"
   ]
  },
  {
   "cell_type": "markdown",
   "id": "requested-virgin",
   "metadata": {},
   "source": [
    "With time, number of restaurants in the area is increasing due to several social factors."
   ]
  },
  {
   "cell_type": "markdown",
   "id": "overhead-reverse",
   "metadata": {},
   "source": [
    "# Preprocessing the data"
   ]
  },
  {
   "cell_type": "code",
   "execution_count": 17,
   "id": "occasional-cheese",
   "metadata": {},
   "outputs": [
    {
     "data": {
      "text/plain": [
       "FC    57088\n",
       "IL    40505\n",
       "DT     2245\n",
       "MB      290\n",
       "Name: Type, dtype: int64"
      ]
     },
     "execution_count": 17,
     "metadata": {},
     "output_type": "execute_result"
    }
   ],
   "source": [
    "df['Type'].value_counts()"
   ]
  },
  {
   "cell_type": "code",
   "execution_count": 18,
   "id": "comic-sudan",
   "metadata": {},
   "outputs": [
    {
     "data": {
      "text/plain": [
       "Other         50787\n",
       "Big Cities    49341\n",
       "Name: City Group, dtype: int64"
      ]
     },
     "execution_count": 18,
     "metadata": {},
     "output_type": "execute_result"
    }
   ],
   "source": [
    "df['City Group'].value_counts()"
   ]
  },
  {
   "cell_type": "code",
   "execution_count": 21,
   "id": "suitable-works",
   "metadata": {},
   "outputs": [
    {
     "data": {
      "text/plain": [
       "İstanbul     34130\n",
       "Ankara        8739\n",
       "İzmir         6472\n",
       "Antalya       5915\n",
       "Kocaeli       4365\n",
       "             ...  \n",
       "Osmaniye         1\n",
       "Kastamonu        1\n",
       "Elazığ           1\n",
       "Amasya           1\n",
       "Karabük          1\n",
       "Name: City, Length: 63, dtype: int64"
      ]
     },
     "execution_count": 21,
     "metadata": {},
     "output_type": "execute_result"
    }
   ],
   "source": [
    "df['City'].value_counts()"
   ]
  },
  {
   "cell_type": "markdown",
   "id": "passing-building",
   "metadata": {},
   "source": [
    "<b>Oops!</b> There are 63 different City values. I can create dummy variables to handle this feature but it will lead to so many columns. A good approach will be to reduce categories in this column. For example, instead of cities categories can be different zones or tier-1,tier-2 and so on. Here, I am dropping this column as there is not much information about which countries are involved. Also, the feature City Group covers effect of this feature as well."
   ]
  },
  {
   "cell_type": "code",
   "execution_count": 22,
   "id": "analyzed-demographic",
   "metadata": {},
   "outputs": [],
   "source": [
    "df.drop('City',axis=1,inplace=True)"
   ]
  },
  {
   "cell_type": "markdown",
   "id": "fresh-surgeon",
   "metadata": {},
   "source": [
    "#### converting other categorical columns"
   ]
  },
  {
   "cell_type": "code",
   "execution_count": 23,
   "id": "enhanced-voltage",
   "metadata": {},
   "outputs": [],
   "source": [
    "df['Type'] = df['Type'].map({'FC':0,'IL':1,'DT':2,'MB':3})\n",
    "\n",
    "from sklearn.preprocessing import OrdinalEncoder\n",
    "encoder = OrdinalEncoder()\n",
    "df['City Group'] = encoder.fit_transform(np.array(df['City Group']).reshape(-1,1))\n",
    "df['City Group'] = df['City Group'].apply(int)"
   ]
  },
  {
   "cell_type": "code",
   "execution_count": 24,
   "id": "alleged-fiction",
   "metadata": {},
   "outputs": [
    {
     "data": {
      "text/plain": [
       "launch_Month\n",
       "1     4.521243e+06\n",
       "2     4.189109e+06\n",
       "3     3.477052e+06\n",
       "4     3.749950e+06\n",
       "5     3.657800e+06\n",
       "6     3.776214e+06\n",
       "7     3.458596e+06\n",
       "8     3.883020e+06\n",
       "9     4.526998e+06\n",
       "10    4.056980e+06\n",
       "11    4.403934e+06\n",
       "12    3.720047e+06\n",
       "Name: revenue, dtype: float64"
      ]
     },
     "execution_count": 24,
     "metadata": {},
     "output_type": "execute_result"
    }
   ],
   "source": [
    "df.dropna().groupby('launch_Month')['revenue'].mean()"
   ]
  },
  {
   "cell_type": "markdown",
   "id": "included-decision",
   "metadata": {},
   "source": [
    "Revenue is a bit higher in months of Jan, Sept and Nov."
   ]
  },
  {
   "cell_type": "code",
   "execution_count": 25,
   "id": "valid-limit",
   "metadata": {},
   "outputs": [
    {
     "data": {
      "text/plain": [
       "launch_year\n",
       "1995             NaN\n",
       "1996    3.903884e+06\n",
       "1997    4.286645e+06\n",
       "1998    4.251905e+06\n",
       "1999    5.246965e+06\n",
       "2000    7.495092e+06\n",
       "2001             NaN\n",
       "2002    4.991022e+06\n",
       "2003             NaN\n",
       "2004    3.482435e+06\n",
       "2005    3.298470e+06\n",
       "2006    3.360841e+06\n",
       "2007    4.317164e+06\n",
       "2008    4.588214e+06\n",
       "2009    4.094408e+06\n",
       "2010    4.383878e+06\n",
       "2011    4.147879e+06\n",
       "2012    3.540404e+06\n",
       "2013    2.532287e+06\n",
       "2014    2.464944e+06\n",
       "Name: revenue, dtype: float64"
      ]
     },
     "execution_count": 25,
     "metadata": {},
     "output_type": "execute_result"
    }
   ],
   "source": [
    "df.groupby('launch_year')['revenue'].mean()"
   ]
  },
  {
   "cell_type": "markdown",
   "id": "further-reverse",
   "metadata": {},
   "source": [
    "- Year 1999 has recorded highest revenues.\n",
    "- Years 2000, 2013 and 2014 proved to be worst years for restaurants. Though number of observations is too low for year 2014, may be the big picture is differnt from this"
   ]
  },
  {
   "cell_type": "markdown",
   "id": "alive-leonard",
   "metadata": {},
   "source": [
    "#### Creating dummy variables"
   ]
  },
  {
   "cell_type": "code",
   "execution_count": 26,
   "id": "northern-peripheral",
   "metadata": {},
   "outputs": [],
   "source": [
    "df.launch_year = df.launch_year.astype(str)\n",
    "df.launch_Month = df.launch_Month.astype(str)\n",
    "year_dummy = pd.get_dummies(df[['launch_year','launch_Month']],drop_first=True)\n",
    "df = pd.concat([df,year_dummy],axis=1)\n",
    "df.drop(['launch_year','launch_Month'],axis=1, inplace=True)"
   ]
  },
  {
   "cell_type": "markdown",
   "id": "rural-pontiac",
   "metadata": {},
   "source": [
    "#### Re-splitting train and test data"
   ]
  },
  {
   "cell_type": "code",
   "execution_count": 28,
   "id": "preliminary-words",
   "metadata": {},
   "outputs": [
    {
     "data": {
      "text/plain": [
       "((128, 70), (100000, 69))"
      ]
     },
     "execution_count": 28,
     "metadata": {},
     "output_type": "execute_result"
    }
   ],
   "source": [
    "processed_df = df[:128].dropna(axis=0)\n",
    "processed_test_data = df[128:].drop('revenue',axis=1)\n",
    "# remember there were 137 rows in train data\n",
    "processed_df.shape,processed_test_data.shape"
   ]
  },
  {
   "cell_type": "code",
   "execution_count": 29,
   "id": "million-choir",
   "metadata": {},
   "outputs": [
    {
     "data": {
      "text/html": [
       "<div>\n",
       "<style scoped>\n",
       "    .dataframe tbody tr th:only-of-type {\n",
       "        vertical-align: middle;\n",
       "    }\n",
       "\n",
       "    .dataframe tbody tr th {\n",
       "        vertical-align: top;\n",
       "    }\n",
       "\n",
       "    .dataframe thead th {\n",
       "        text-align: right;\n",
       "    }\n",
       "</style>\n",
       "<table border=\"1\" class=\"dataframe\">\n",
       "  <thead>\n",
       "    <tr style=\"text-align: right;\">\n",
       "      <th></th>\n",
       "      <th>City Group</th>\n",
       "      <th>Type</th>\n",
       "      <th>P1</th>\n",
       "      <th>P2</th>\n",
       "      <th>P3</th>\n",
       "      <th>P4</th>\n",
       "      <th>P5</th>\n",
       "      <th>P6</th>\n",
       "      <th>P7</th>\n",
       "      <th>P8</th>\n",
       "      <th>P9</th>\n",
       "      <th>P10</th>\n",
       "      <th>P11</th>\n",
       "      <th>P12</th>\n",
       "      <th>P13</th>\n",
       "      <th>P14</th>\n",
       "      <th>P15</th>\n",
       "      <th>P16</th>\n",
       "      <th>P17</th>\n",
       "      <th>P18</th>\n",
       "      <th>P19</th>\n",
       "      <th>P20</th>\n",
       "      <th>P21</th>\n",
       "      <th>P22</th>\n",
       "      <th>P23</th>\n",
       "      <th>P24</th>\n",
       "      <th>P25</th>\n",
       "      <th>P26</th>\n",
       "      <th>P27</th>\n",
       "      <th>P28</th>\n",
       "      <th>P29</th>\n",
       "      <th>P30</th>\n",
       "      <th>P31</th>\n",
       "      <th>P32</th>\n",
       "      <th>P33</th>\n",
       "      <th>P34</th>\n",
       "      <th>P35</th>\n",
       "      <th>P36</th>\n",
       "      <th>P37</th>\n",
       "      <th>revenue</th>\n",
       "      <th>launch_year_1996</th>\n",
       "      <th>launch_year_1997</th>\n",
       "      <th>launch_year_1998</th>\n",
       "      <th>launch_year_1999</th>\n",
       "      <th>launch_year_2000</th>\n",
       "      <th>launch_year_2001</th>\n",
       "      <th>launch_year_2002</th>\n",
       "      <th>launch_year_2003</th>\n",
       "      <th>launch_year_2004</th>\n",
       "      <th>launch_year_2005</th>\n",
       "      <th>launch_year_2006</th>\n",
       "      <th>launch_year_2007</th>\n",
       "      <th>launch_year_2008</th>\n",
       "      <th>launch_year_2009</th>\n",
       "      <th>launch_year_2010</th>\n",
       "      <th>launch_year_2011</th>\n",
       "      <th>launch_year_2012</th>\n",
       "      <th>launch_year_2013</th>\n",
       "      <th>launch_year_2014</th>\n",
       "      <th>launch_Month_10</th>\n",
       "      <th>launch_Month_11</th>\n",
       "      <th>launch_Month_12</th>\n",
       "      <th>launch_Month_2</th>\n",
       "      <th>launch_Month_3</th>\n",
       "      <th>launch_Month_4</th>\n",
       "      <th>launch_Month_5</th>\n",
       "      <th>launch_Month_6</th>\n",
       "      <th>launch_Month_7</th>\n",
       "      <th>launch_Month_8</th>\n",
       "      <th>launch_Month_9</th>\n",
       "    </tr>\n",
       "  </thead>\n",
       "  <tbody>\n",
       "    <tr>\n",
       "      <th>0</th>\n",
       "      <td>0</td>\n",
       "      <td>1</td>\n",
       "      <td>4</td>\n",
       "      <td>5.0</td>\n",
       "      <td>4.0</td>\n",
       "      <td>4.0</td>\n",
       "      <td>2</td>\n",
       "      <td>2</td>\n",
       "      <td>5</td>\n",
       "      <td>4</td>\n",
       "      <td>5</td>\n",
       "      <td>5</td>\n",
       "      <td>3</td>\n",
       "      <td>5</td>\n",
       "      <td>5.0</td>\n",
       "      <td>1</td>\n",
       "      <td>2</td>\n",
       "      <td>2</td>\n",
       "      <td>2</td>\n",
       "      <td>4</td>\n",
       "      <td>5</td>\n",
       "      <td>4</td>\n",
       "      <td>1</td>\n",
       "      <td>3</td>\n",
       "      <td>3</td>\n",
       "      <td>1</td>\n",
       "      <td>1</td>\n",
       "      <td>1.0</td>\n",
       "      <td>4.0</td>\n",
       "      <td>2.0</td>\n",
       "      <td>3.0</td>\n",
       "      <td>5</td>\n",
       "      <td>3</td>\n",
       "      <td>4</td>\n",
       "      <td>5</td>\n",
       "      <td>5</td>\n",
       "      <td>4</td>\n",
       "      <td>3</td>\n",
       "      <td>4</td>\n",
       "      <td>5653753.0</td>\n",
       "      <td>0</td>\n",
       "      <td>0</td>\n",
       "      <td>0</td>\n",
       "      <td>1</td>\n",
       "      <td>0</td>\n",
       "      <td>0</td>\n",
       "      <td>0</td>\n",
       "      <td>0</td>\n",
       "      <td>0</td>\n",
       "      <td>0</td>\n",
       "      <td>0</td>\n",
       "      <td>0</td>\n",
       "      <td>0</td>\n",
       "      <td>0</td>\n",
       "      <td>0</td>\n",
       "      <td>0</td>\n",
       "      <td>0</td>\n",
       "      <td>0</td>\n",
       "      <td>0</td>\n",
       "      <td>0</td>\n",
       "      <td>0</td>\n",
       "      <td>0</td>\n",
       "      <td>0</td>\n",
       "      <td>0</td>\n",
       "      <td>0</td>\n",
       "      <td>0</td>\n",
       "      <td>0</td>\n",
       "      <td>1</td>\n",
       "      <td>0</td>\n",
       "      <td>0</td>\n",
       "    </tr>\n",
       "    <tr>\n",
       "      <th>1</th>\n",
       "      <td>0</td>\n",
       "      <td>0</td>\n",
       "      <td>4</td>\n",
       "      <td>5.0</td>\n",
       "      <td>4.0</td>\n",
       "      <td>4.0</td>\n",
       "      <td>1</td>\n",
       "      <td>2</td>\n",
       "      <td>5</td>\n",
       "      <td>5</td>\n",
       "      <td>5</td>\n",
       "      <td>5</td>\n",
       "      <td>1</td>\n",
       "      <td>5</td>\n",
       "      <td>5.0</td>\n",
       "      <td>0</td>\n",
       "      <td>0</td>\n",
       "      <td>0</td>\n",
       "      <td>0</td>\n",
       "      <td>0</td>\n",
       "      <td>3</td>\n",
       "      <td>2</td>\n",
       "      <td>1</td>\n",
       "      <td>3</td>\n",
       "      <td>2</td>\n",
       "      <td>0</td>\n",
       "      <td>0</td>\n",
       "      <td>0.0</td>\n",
       "      <td>0.0</td>\n",
       "      <td>3.0</td>\n",
       "      <td>3.0</td>\n",
       "      <td>0</td>\n",
       "      <td>0</td>\n",
       "      <td>0</td>\n",
       "      <td>0</td>\n",
       "      <td>0</td>\n",
       "      <td>0</td>\n",
       "      <td>0</td>\n",
       "      <td>0</td>\n",
       "      <td>6923131.0</td>\n",
       "      <td>0</td>\n",
       "      <td>0</td>\n",
       "      <td>0</td>\n",
       "      <td>0</td>\n",
       "      <td>0</td>\n",
       "      <td>0</td>\n",
       "      <td>0</td>\n",
       "      <td>0</td>\n",
       "      <td>0</td>\n",
       "      <td>0</td>\n",
       "      <td>0</td>\n",
       "      <td>0</td>\n",
       "      <td>1</td>\n",
       "      <td>0</td>\n",
       "      <td>0</td>\n",
       "      <td>0</td>\n",
       "      <td>0</td>\n",
       "      <td>0</td>\n",
       "      <td>0</td>\n",
       "      <td>0</td>\n",
       "      <td>0</td>\n",
       "      <td>0</td>\n",
       "      <td>1</td>\n",
       "      <td>0</td>\n",
       "      <td>0</td>\n",
       "      <td>0</td>\n",
       "      <td>0</td>\n",
       "      <td>0</td>\n",
       "      <td>0</td>\n",
       "      <td>0</td>\n",
       "    </tr>\n",
       "    <tr>\n",
       "      <th>2</th>\n",
       "      <td>1</td>\n",
       "      <td>1</td>\n",
       "      <td>2</td>\n",
       "      <td>4.0</td>\n",
       "      <td>2.0</td>\n",
       "      <td>5.0</td>\n",
       "      <td>2</td>\n",
       "      <td>3</td>\n",
       "      <td>5</td>\n",
       "      <td>5</td>\n",
       "      <td>5</td>\n",
       "      <td>5</td>\n",
       "      <td>2</td>\n",
       "      <td>5</td>\n",
       "      <td>5.0</td>\n",
       "      <td>0</td>\n",
       "      <td>0</td>\n",
       "      <td>0</td>\n",
       "      <td>0</td>\n",
       "      <td>0</td>\n",
       "      <td>1</td>\n",
       "      <td>1</td>\n",
       "      <td>1</td>\n",
       "      <td>1</td>\n",
       "      <td>1</td>\n",
       "      <td>0</td>\n",
       "      <td>0</td>\n",
       "      <td>0.0</td>\n",
       "      <td>0.0</td>\n",
       "      <td>1.0</td>\n",
       "      <td>3.0</td>\n",
       "      <td>0</td>\n",
       "      <td>0</td>\n",
       "      <td>0</td>\n",
       "      <td>0</td>\n",
       "      <td>0</td>\n",
       "      <td>0</td>\n",
       "      <td>0</td>\n",
       "      <td>0</td>\n",
       "      <td>2055379.0</td>\n",
       "      <td>0</td>\n",
       "      <td>0</td>\n",
       "      <td>0</td>\n",
       "      <td>0</td>\n",
       "      <td>0</td>\n",
       "      <td>0</td>\n",
       "      <td>0</td>\n",
       "      <td>0</td>\n",
       "      <td>0</td>\n",
       "      <td>0</td>\n",
       "      <td>0</td>\n",
       "      <td>0</td>\n",
       "      <td>0</td>\n",
       "      <td>0</td>\n",
       "      <td>0</td>\n",
       "      <td>0</td>\n",
       "      <td>0</td>\n",
       "      <td>1</td>\n",
       "      <td>0</td>\n",
       "      <td>0</td>\n",
       "      <td>0</td>\n",
       "      <td>0</td>\n",
       "      <td>0</td>\n",
       "      <td>1</td>\n",
       "      <td>0</td>\n",
       "      <td>0</td>\n",
       "      <td>0</td>\n",
       "      <td>0</td>\n",
       "      <td>0</td>\n",
       "      <td>0</td>\n",
       "    </tr>\n",
       "    <tr>\n",
       "      <th>3</th>\n",
       "      <td>1</td>\n",
       "      <td>1</td>\n",
       "      <td>6</td>\n",
       "      <td>4.5</td>\n",
       "      <td>6.0</td>\n",
       "      <td>6.0</td>\n",
       "      <td>4</td>\n",
       "      <td>4</td>\n",
       "      <td>10</td>\n",
       "      <td>8</td>\n",
       "      <td>10</td>\n",
       "      <td>10</td>\n",
       "      <td>8</td>\n",
       "      <td>10</td>\n",
       "      <td>7.5</td>\n",
       "      <td>6</td>\n",
       "      <td>4</td>\n",
       "      <td>9</td>\n",
       "      <td>3</td>\n",
       "      <td>12</td>\n",
       "      <td>20</td>\n",
       "      <td>12</td>\n",
       "      <td>6</td>\n",
       "      <td>1</td>\n",
       "      <td>10</td>\n",
       "      <td>2</td>\n",
       "      <td>2</td>\n",
       "      <td>2.5</td>\n",
       "      <td>2.5</td>\n",
       "      <td>2.5</td>\n",
       "      <td>7.5</td>\n",
       "      <td>25</td>\n",
       "      <td>12</td>\n",
       "      <td>10</td>\n",
       "      <td>6</td>\n",
       "      <td>18</td>\n",
       "      <td>12</td>\n",
       "      <td>12</td>\n",
       "      <td>6</td>\n",
       "      <td>2675511.0</td>\n",
       "      <td>0</td>\n",
       "      <td>0</td>\n",
       "      <td>0</td>\n",
       "      <td>0</td>\n",
       "      <td>0</td>\n",
       "      <td>0</td>\n",
       "      <td>0</td>\n",
       "      <td>0</td>\n",
       "      <td>0</td>\n",
       "      <td>0</td>\n",
       "      <td>0</td>\n",
       "      <td>0</td>\n",
       "      <td>0</td>\n",
       "      <td>0</td>\n",
       "      <td>0</td>\n",
       "      <td>0</td>\n",
       "      <td>1</td>\n",
       "      <td>0</td>\n",
       "      <td>0</td>\n",
       "      <td>0</td>\n",
       "      <td>0</td>\n",
       "      <td>0</td>\n",
       "      <td>1</td>\n",
       "      <td>0</td>\n",
       "      <td>0</td>\n",
       "      <td>0</td>\n",
       "      <td>0</td>\n",
       "      <td>0</td>\n",
       "      <td>0</td>\n",
       "      <td>0</td>\n",
       "    </tr>\n",
       "    <tr>\n",
       "      <th>4</th>\n",
       "      <td>1</td>\n",
       "      <td>1</td>\n",
       "      <td>3</td>\n",
       "      <td>4.0</td>\n",
       "      <td>3.0</td>\n",
       "      <td>4.0</td>\n",
       "      <td>2</td>\n",
       "      <td>2</td>\n",
       "      <td>5</td>\n",
       "      <td>5</td>\n",
       "      <td>5</td>\n",
       "      <td>5</td>\n",
       "      <td>2</td>\n",
       "      <td>5</td>\n",
       "      <td>5.0</td>\n",
       "      <td>2</td>\n",
       "      <td>1</td>\n",
       "      <td>2</td>\n",
       "      <td>1</td>\n",
       "      <td>4</td>\n",
       "      <td>2</td>\n",
       "      <td>2</td>\n",
       "      <td>1</td>\n",
       "      <td>2</td>\n",
       "      <td>1</td>\n",
       "      <td>2</td>\n",
       "      <td>3</td>\n",
       "      <td>3.0</td>\n",
       "      <td>5.0</td>\n",
       "      <td>1.0</td>\n",
       "      <td>3.0</td>\n",
       "      <td>5</td>\n",
       "      <td>1</td>\n",
       "      <td>3</td>\n",
       "      <td>2</td>\n",
       "      <td>3</td>\n",
       "      <td>4</td>\n",
       "      <td>3</td>\n",
       "      <td>3</td>\n",
       "      <td>4316715.0</td>\n",
       "      <td>0</td>\n",
       "      <td>0</td>\n",
       "      <td>0</td>\n",
       "      <td>0</td>\n",
       "      <td>0</td>\n",
       "      <td>0</td>\n",
       "      <td>0</td>\n",
       "      <td>0</td>\n",
       "      <td>0</td>\n",
       "      <td>0</td>\n",
       "      <td>0</td>\n",
       "      <td>0</td>\n",
       "      <td>0</td>\n",
       "      <td>1</td>\n",
       "      <td>0</td>\n",
       "      <td>0</td>\n",
       "      <td>0</td>\n",
       "      <td>0</td>\n",
       "      <td>0</td>\n",
       "      <td>0</td>\n",
       "      <td>0</td>\n",
       "      <td>0</td>\n",
       "      <td>0</td>\n",
       "      <td>0</td>\n",
       "      <td>0</td>\n",
       "      <td>1</td>\n",
       "      <td>0</td>\n",
       "      <td>0</td>\n",
       "      <td>0</td>\n",
       "      <td>0</td>\n",
       "    </tr>\n",
       "  </tbody>\n",
       "</table>\n",
       "</div>"
      ],
      "text/plain": [
       "   City Group  Type  P1   P2   P3   P4  P5  P6  P7  P8  P9  P10  P11  P12  \\\n",
       "0           0     1   4  5.0  4.0  4.0   2   2   5   4   5    5    3    5   \n",
       "1           0     0   4  5.0  4.0  4.0   1   2   5   5   5    5    1    5   \n",
       "2           1     1   2  4.0  2.0  5.0   2   3   5   5   5    5    2    5   \n",
       "3           1     1   6  4.5  6.0  6.0   4   4  10   8  10   10    8   10   \n",
       "4           1     1   3  4.0  3.0  4.0   2   2   5   5   5    5    2    5   \n",
       "\n",
       "   P13  P14  P15  P16  P17  P18  P19  P20  P21  P22  P23  P24  P25  P26  P27  \\\n",
       "0  5.0    1    2    2    2    4    5    4    1    3    3    1    1  1.0  4.0   \n",
       "1  5.0    0    0    0    0    0    3    2    1    3    2    0    0  0.0  0.0   \n",
       "2  5.0    0    0    0    0    0    1    1    1    1    1    0    0  0.0  0.0   \n",
       "3  7.5    6    4    9    3   12   20   12    6    1   10    2    2  2.5  2.5   \n",
       "4  5.0    2    1    2    1    4    2    2    1    2    1    2    3  3.0  5.0   \n",
       "\n",
       "   P28  P29  P30  P31  P32  P33  P34  P35  P36  P37    revenue  \\\n",
       "0  2.0  3.0    5    3    4    5    5    4    3    4  5653753.0   \n",
       "1  3.0  3.0    0    0    0    0    0    0    0    0  6923131.0   \n",
       "2  1.0  3.0    0    0    0    0    0    0    0    0  2055379.0   \n",
       "3  2.5  7.5   25   12   10    6   18   12   12    6  2675511.0   \n",
       "4  1.0  3.0    5    1    3    2    3    4    3    3  4316715.0   \n",
       "\n",
       "   launch_year_1996  launch_year_1997  launch_year_1998  launch_year_1999  \\\n",
       "0                 0                 0                 0                 1   \n",
       "1                 0                 0                 0                 0   \n",
       "2                 0                 0                 0                 0   \n",
       "3                 0                 0                 0                 0   \n",
       "4                 0                 0                 0                 0   \n",
       "\n",
       "   launch_year_2000  launch_year_2001  launch_year_2002  launch_year_2003  \\\n",
       "0                 0                 0                 0                 0   \n",
       "1                 0                 0                 0                 0   \n",
       "2                 0                 0                 0                 0   \n",
       "3                 0                 0                 0                 0   \n",
       "4                 0                 0                 0                 0   \n",
       "\n",
       "   launch_year_2004  launch_year_2005  launch_year_2006  launch_year_2007  \\\n",
       "0                 0                 0                 0                 0   \n",
       "1                 0                 0                 0                 0   \n",
       "2                 0                 0                 0                 0   \n",
       "3                 0                 0                 0                 0   \n",
       "4                 0                 0                 0                 0   \n",
       "\n",
       "   launch_year_2008  launch_year_2009  launch_year_2010  launch_year_2011  \\\n",
       "0                 0                 0                 0                 0   \n",
       "1                 1                 0                 0                 0   \n",
       "2                 0                 0                 0                 0   \n",
       "3                 0                 0                 0                 0   \n",
       "4                 0                 1                 0                 0   \n",
       "\n",
       "   launch_year_2012  launch_year_2013  launch_year_2014  launch_Month_10  \\\n",
       "0                 0                 0                 0                0   \n",
       "1                 0                 0                 0                0   \n",
       "2                 0                 1                 0                0   \n",
       "3                 1                 0                 0                0   \n",
       "4                 0                 0                 0                0   \n",
       "\n",
       "   launch_Month_11  launch_Month_12  launch_Month_2  launch_Month_3  \\\n",
       "0                0                0               0               0   \n",
       "1                0                0               1               0   \n",
       "2                0                0               0               1   \n",
       "3                0                0               1               0   \n",
       "4                0                0               0               0   \n",
       "\n",
       "   launch_Month_4  launch_Month_5  launch_Month_6  launch_Month_7  \\\n",
       "0               0               0               0               1   \n",
       "1               0               0               0               0   \n",
       "2               0               0               0               0   \n",
       "3               0               0               0               0   \n",
       "4               0               1               0               0   \n",
       "\n",
       "   launch_Month_8  launch_Month_9  \n",
       "0               0               0  \n",
       "1               0               0  \n",
       "2               0               0  \n",
       "3               0               0  \n",
       "4               0               0  "
      ]
     },
     "execution_count": 29,
     "metadata": {},
     "output_type": "execute_result"
    }
   ],
   "source": [
    "#Check it once\n",
    "processed_df.head()"
   ]
  },
  {
   "cell_type": "markdown",
   "id": "invisible-observer",
   "metadata": {},
   "source": [
    "# Modelling\n",
    "Split train data further into training and testing sets to see performance of each ML model. Then, apply models."
   ]
  },
  {
   "cell_type": "code",
   "execution_count": 30,
   "id": "wireless-kenya",
   "metadata": {},
   "outputs": [],
   "source": [
    "from sklearn.model_selection import train_test_split\n",
    "X=processed_df.drop('revenue',axis=1)\n",
    "y=df['revenue'][:128]\n",
    "X_train, X_test, y_train, y_test = train_test_split(X,y,test_size=0.20,random_state=12345)"
   ]
  },
  {
   "cell_type": "code",
   "execution_count": 31,
   "id": "norwegian-terry",
   "metadata": {},
   "outputs": [
    {
     "data": {
      "text/plain": [
       "((102, 69), (26, 69), (102,), (26,))"
      ]
     },
     "execution_count": 31,
     "metadata": {},
     "output_type": "execute_result"
    }
   ],
   "source": [
    "X_train.shape, X_test.shape, y_train.shape, y_test.shape"
   ]
  },
  {
   "cell_type": "code",
   "execution_count": 35,
   "id": "grave-stanley",
   "metadata": {},
   "outputs": [
    {
     "data": {
      "text/html": [
       "<div>\n",
       "<style scoped>\n",
       "    .dataframe tbody tr th:only-of-type {\n",
       "        vertical-align: middle;\n",
       "    }\n",
       "\n",
       "    .dataframe tbody tr th {\n",
       "        vertical-align: top;\n",
       "    }\n",
       "\n",
       "    .dataframe thead th {\n",
       "        text-align: right;\n",
       "    }\n",
       "</style>\n",
       "<table border=\"1\" class=\"dataframe\">\n",
       "  <thead>\n",
       "    <tr style=\"text-align: right;\">\n",
       "      <th></th>\n",
       "      <th>MAE</th>\n",
       "      <th>MSE</th>\n",
       "      <th>R2-score</th>\n",
       "    </tr>\n",
       "  </thead>\n",
       "  <tbody>\n",
       "    <tr>\n",
       "      <th>Linear Regression</th>\n",
       "      <td>1.904764e+06</td>\n",
       "      <td>5.764211e+12</td>\n",
       "      <td>-1.274732</td>\n",
       "    </tr>\n",
       "    <tr>\n",
       "      <th>Logistic Regression</th>\n",
       "      <td>1.302039e+06</td>\n",
       "      <td>2.478689e+12</td>\n",
       "      <td>0.021835</td>\n",
       "    </tr>\n",
       "    <tr>\n",
       "      <th>Decision Tree</th>\n",
       "      <td>1.491055e+06</td>\n",
       "      <td>3.307338e+12</td>\n",
       "      <td>-0.305176</td>\n",
       "    </tr>\n",
       "    <tr>\n",
       "      <th>Random Forest</th>\n",
       "      <td>1.138004e+06</td>\n",
       "      <td>1.989337e+12</td>\n",
       "      <td>0.214948</td>\n",
       "    </tr>\n",
       "    <tr>\n",
       "      <th>Support Vector Machines</th>\n",
       "      <td>1.407327e+06</td>\n",
       "      <td>2.555855e+12</td>\n",
       "      <td>-0.008618</td>\n",
       "    </tr>\n",
       "    <tr>\n",
       "      <th>K-nearest Neighbors</th>\n",
       "      <td>1.138622e+06</td>\n",
       "      <td>1.816654e+12</td>\n",
       "      <td>0.283094</td>\n",
       "    </tr>\n",
       "    <tr>\n",
       "      <th>XGBoost</th>\n",
       "      <td>1.057680e+06</td>\n",
       "      <td>1.946986e+12</td>\n",
       "      <td>0.231661</td>\n",
       "    </tr>\n",
       "  </tbody>\n",
       "</table>\n",
       "</div>"
      ],
      "text/plain": [
       "                                  MAE           MSE  R2-score\n",
       "Linear Regression        1.904764e+06  5.764211e+12 -1.274732\n",
       "Logistic Regression      1.302039e+06  2.478689e+12  0.021835\n",
       "Decision Tree            1.491055e+06  3.307338e+12 -0.305176\n",
       "Random Forest            1.138004e+06  1.989337e+12  0.214948\n",
       "Support Vector Machines  1.407327e+06  2.555855e+12 -0.008618\n",
       "K-nearest Neighbors      1.138622e+06  1.816654e+12  0.283094\n",
       "XGBoost                  1.057680e+06  1.946986e+12  0.231661"
      ]
     },
     "execution_count": 35,
     "metadata": {},
     "output_type": "execute_result"
    }
   ],
   "source": [
    "from sklearn.linear_model import LinearRegression\n",
    "from sklearn.linear_model import LogisticRegression\n",
    "from sklearn.tree import DecisionTreeRegressor\n",
    "from sklearn.ensemble import RandomForestRegressor\n",
    "from sklearn.svm import SVR\n",
    "from sklearn.neighbors import KNeighborsRegressor\n",
    "from xgboost import XGBRegressor\n",
    "from sklearn.metrics import mean_absolute_error,mean_squared_error,r2_score\n",
    "from sklearn.model_selection import cross_val_score\n",
    "\n",
    "regressors = {\n",
    "    'Linear Regression' : LinearRegression(),\n",
    "    'Logistic Regression' : LogisticRegression(),\n",
    "    'Decision Tree' : DecisionTreeRegressor(),\n",
    "    'Random Forest' : RandomForestRegressor(),\n",
    "    'Support Vector Machines' : SVR(),\n",
    "    'K-nearest Neighbors' : KNeighborsRegressor(),\n",
    "    'XGBoost' : XGBRegressor()\n",
    "}\n",
    "results=pd.DataFrame(columns=['MAE','MSE','R2-score'])\n",
    "for method,func in regressors.items():\n",
    "    func.fit(X_train,y_train)\n",
    "    pred = func.predict(X_test)\n",
    "    results.loc[method]= [mean_absolute_error(y_test,pred),\n",
    "                          mean_squared_error(y_test,pred),\n",
    "                          r2_score(y_test,pred)\n",
    "                         ]\n",
    "results"
   ]
  },
  {
   "cell_type": "code",
   "execution_count": 36,
   "id": "willing-sperm",
   "metadata": {},
   "outputs": [
    {
     "name": "stdout",
     "output_type": "stream",
     "text": [
      "Fitting 3 folds for each of 32 candidates, totalling 96 fits\n",
      "0.056570227570835706\n",
      "{'colsample_bytree': 0.7, 'learning_rate': 0.03, 'max_depth': 7, 'min_child_weight': 4, 'n_estimators': 500, 'subsample': 0.7}\n"
     ]
    }
   ],
   "source": [
    "from sklearn.model_selection import GridSearchCV\n",
    "parameters = {'learning_rate': [.03, 0.05, .07,.09], #so called `eta` value\n",
    "              'max_depth': [6,7,8,9],\n",
    "              'min_child_weight': [4],\n",
    "              'subsample': [0.7],\n",
    "              'colsample_bytree': [0.7],\n",
    "              'n_estimators': [500,700]}\n",
    "\n",
    "xgb_grid = GridSearchCV(XGBRegressor(),\n",
    "                        parameters,\n",
    "                        cv = 3,\n",
    "                        n_jobs = 5,\n",
    "                        verbose=True)\n",
    "\n",
    "xgb_grid.fit(X,y)\n",
    "\n",
    "print(xgb_grid.best_score_)\n",
    "print(xgb_grid.best_params_)"
   ]
  },
  {
   "cell_type": "code",
   "execution_count": 37,
   "id": "junior-clone",
   "metadata": {},
   "outputs": [],
   "source": [
    "xgb=XGBRegressor(colsample_bytree=0.7,learning_rate=0.05,max_depth=7,min_child_weight=4,\n",
    "                n_estimators=500,subsample=0.7)\n",
    "xgb.fit(X,y)\n",
    "predicted_test_values = xgb.predict(processed_test_data)\n",
    "submission1 = pd.DataFrame(columns=['Id','Prediction'])\n",
    "submission1['Id'] = test_data['Id']\n",
    "submission1['Prediction'] = predicted_test_values\n",
    "submission1.to_csv('data/submission_xgb.csv',index=False)"
   ]
  },
  {
   "cell_type": "code",
   "execution_count": 42,
   "id": "distinguished-arrow",
   "metadata": {},
   "outputs": [
    {
     "data": {
      "text/plain": [
       "(1057679.5865384615, 1946985669252.8823, 0.23166068109392468)"
      ]
     },
     "execution_count": 42,
     "metadata": {},
     "output_type": "execute_result"
    }
   ],
   "source": [
    "mean_absolute_error(y_test,pred), mean_squared_error(y_test,pred), r2_score(y_test,pred)"
   ]
  },
  {
   "cell_type": "code",
   "execution_count": 38,
   "id": "facial-salem",
   "metadata": {},
   "outputs": [],
   "source": [
    "knn=KNeighborsRegressor(n_neighbors=5)\n",
    "knn.fit(X_train,y_train)\n",
    "predicted_test_values2 = knn.predict(processed_test_data)\n",
    "submission2 = pd.DataFrame(columns=['Id','Prediction'])\n",
    "submission2['Id'] = test_data['Id']\n",
    "submission2['Prediction'] = predicted_test_values2\n",
    "submission2.to_csv('data/submission_knn.csv',index=False)"
   ]
  },
  {
   "cell_type": "code",
   "execution_count": null,
   "id": "driven-trustee",
   "metadata": {},
   "outputs": [],
   "source": []
  }
 ],
 "metadata": {
  "kernelspec": {
   "display_name": "Python 3",
   "language": "python",
   "name": "python3"
  },
  "language_info": {
   "codemirror_mode": {
    "name": "ipython",
    "version": 3
   },
   "file_extension": ".py",
   "mimetype": "text/x-python",
   "name": "python",
   "nbconvert_exporter": "python",
   "pygments_lexer": "ipython3",
   "version": "3.8.6"
  }
 },
 "nbformat": 4,
 "nbformat_minor": 5
}
